{
  "nbformat": 4,
  "nbformat_minor": 0,
  "metadata": {
    "colab": {
      "private_outputs": true,
      "provenance": [],
      "include_colab_link": true
    },
    "kernelspec": {
      "name": "python3",
      "display_name": "Python 3"
    },
    "language_info": {
      "name": "python"
    }
  },
  "cells": [
    {
      "cell_type": "markdown",
      "metadata": {
        "id": "view-in-github",
        "colab_type": "text"
      },
      "source": [
        "<a href=\"https://colab.research.google.com/github/FlarPet/github-project-demo/blob/master/Copy_of_pca_tsne.ipynb\" target=\"_parent\"><img src=\"https://colab.research.google.com/assets/colab-badge.svg\" alt=\"Open In Colab\"/></a>"
      ]
    },
    {
      "cell_type": "markdown",
      "source": [
        "## Dimensionality Reduction\n",
        "\n",
        "This is the hands on part of the lecture. The hands on is separated into two sections.\n",
        "\n",
        "# Section 1\n",
        "\n",
        "Use Principal Components Analysis (PCA) on RNA-seq data"
      ],
      "metadata": {
        "id": "9z_Oo37YE9n0"
      }
    },
    {
      "cell_type": "code",
      "execution_count": null,
      "metadata": {
        "id": "0xEFdMguhUFZ"
      },
      "outputs": [],
      "source": [
        "# import packages\n",
        "import numpy as np\n",
        "import pandas as pd\n",
        "from matplotlib import pyplot as plt\n",
        "import urllib.request\n",
        "\n",
        "import warnings\n",
        "warnings.filterwarnings('ignore')\n",
        "\n",
        "from sklearn.decomposition import PCA"
      ]
    },
    {
      "cell_type": "markdown",
      "source": [
        "### Download Breast Cancer Gene Expression\n",
        "\n",
        "This is a dataset of 1100 RNA-seq samples from TCGA. The samples can be devided into 4 distinct subtypes (Luminal A, Luminal B, Her2+, and Triple negative)"
      ],
      "metadata": {
        "id": "w-dwWknmq8SL"
      }
    },
    {
      "cell_type": "code",
      "source": [
        "urllib.request.urlretrieve(\"https://mssm-share.s3.amazonaws.com/data_mrna_seq_v2_rsem.txt\", \"rna_seq_breast_cancer.txt\")\n",
        "rna_seq = pd.read_csv(\"rna_seq_breast_cancer.txt\", sep=\"\\t\").set_index(\"Hugo_Symbol\").iloc[:,1:]\n",
        "rna_seq.index = rna_seq.index.astype(str)"
      ],
      "metadata": {
        "id": "3saNXPoXqB7s"
      },
      "execution_count": null,
      "outputs": []
    },
    {
      "cell_type": "markdown",
      "source": [
        "### Calculate PCA and plot the top two components\n",
        "\n",
        "Running on the RNA-seq data we compute the top two PCs. These PCs carry the most variance in the orioginal data."
      ],
      "metadata": {
        "id": "_3zeJ6I3rOZE"
      }
    },
    {
      "cell_type": "code",
      "source": [
        "pca = PCA(n_components=20)\n",
        "\n",
        "pt = pca.fit_transform(rna_seq.T)\n",
        "\n",
        "plt.scatter(pt[:,0], pt[:,1])\n",
        "plt.xlabel(\"PC1\")\n",
        "plt.ylabel(\"PC2\")"
      ],
      "metadata": {
        "id": "lOQ-bBRVhzb6"
      },
      "execution_count": null,
      "outputs": []
    },
    {
      "cell_type": "markdown",
      "source": [
        "### Plot the variance exmplained by the PCs\n",
        "\n",
        "The PCs are sorted based on the variance that they capture. PCs which explain a large fraction of variance are often considered more important than PCs that only capture a fraction of the variance."
      ],
      "metadata": {
        "id": "_xTX_5sOF0xC"
      }
    },
    {
      "cell_type": "code",
      "source": [
        "pca.explained_variance_ratio_[0:20]"
      ],
      "metadata": {
        "id": "TsUffVH0F0K7"
      },
      "execution_count": null,
      "outputs": []
    },
    {
      "cell_type": "code",
      "source": [
        "labels = [\"PC\"+str(x) for x in list(range(1,21)[::-1])]\n",
        "p = plt.barh(list(range(20)), width=pca.explained_variance_ratio_[::-1])\n",
        "p = plt.yticks(list(range(20)), labels=labels)\n",
        "t = plt.xlabel(\"variance explained (%)\", fontsize=16)"
      ],
      "metadata": {
        "id": "OyEu1yL_G3bN"
      },
      "execution_count": null,
      "outputs": []
    },
    {
      "cell_type": "markdown",
      "source": [
        "# Section 2\n",
        "\n",
        "Use t-SNE and UMAP and compare to PCA"
      ],
      "metadata": {
        "id": "V7wECNUIIbmU"
      }
    },
    {
      "cell_type": "markdown",
      "source": [
        "### Run t-SNE on RNA-seq data\n",
        "\n",
        "Running t-SNE results in a different representation of the orginal data and the PCA projection. The perplexity defines the number of neighbors to be considered.\n",
        "\n",
        "The resulting plot is more pleasing to look at, but it should be noted that neither is better or worse."
      ],
      "metadata": {
        "id": "OIHFolq4rhAm"
      }
    },
    {
      "cell_type": "code",
      "source": [
        "import pandas as pd\n",
        "import numpy as np\n",
        "\n",
        "from sklearn.metrics import mean_squared_error\n",
        "from sklearn.model_selection import train_test_split\n",
        "\n",
        "import lightgbm as lgb\n",
        "from sklearn.manifold import TSNE"
      ],
      "metadata": {
        "id": "Ge4b-0KVk7n4"
      },
      "execution_count": null,
      "outputs": []
    },
    {
      "cell_type": "code",
      "source": [
        "tsne = TSNE(n_components=2, perplexity=20)\n",
        "transformed_data = tsne.fit_transform(rna_seq.T)\n",
        "\n",
        "p = plt.scatter(transformed_data[:,0], transformed_data[:,1])"
      ],
      "metadata": {
        "id": "_Dp6NQDWqltt"
      },
      "execution_count": null,
      "outputs": []
    },
    {
      "cell_type": "markdown",
      "source": [
        "## Download MNIST data\n",
        "\n",
        "The MNIST data is a database of handwritten digits from 0 to 9. It is a popular dataset for machine learning purposes."
      ],
      "metadata": {
        "id": "oaKF6AjmmzYO"
      }
    },
    {
      "cell_type": "code",
      "source": [
        "urllib.request.urlretrieve(\"https://mssm-share.s3.amazonaws.com/mnist_test.csv\", \"mnist.csv\")\n",
        "\n",
        "mnist = np.array(pd.read_csv(\"mnist.csv\"))\n",
        "X = mnist[:, 1:]\n",
        "y = mnist[:, 0]"
      ],
      "metadata": {
        "id": "7NFRmxTmldaE"
      },
      "execution_count": null,
      "outputs": []
    },
    {
      "cell_type": "markdown",
      "source": [
        "Define some parameters for the machine learning algorithm we want to use."
      ],
      "metadata": {
        "id": "jNhshBy_n5DA"
      }
    },
    {
      "cell_type": "code",
      "source": [
        "# Set the parameters for LightGBM\n",
        "params = {\n",
        "    'boosting_type': 'gbdt',  # the type of boosting algorithm to use\n",
        "    'objective': 'multiclass',  # multiclass classification\n",
        "    'metric': 'multi_logloss',  # evaluation metric\n",
        "    'num_class': 10,  # number of classes\n",
        "    'num_leaves': 31,  # number of leaves in each tree\n",
        "    'learning_rate': 0.05,  # the learning rate\n",
        "    'feature_fraction': 0.9,  # fraction of features to use for each iteration\n",
        "    'bagging_fraction': 0.8,  # fraction of data to use for each iteration\n",
        "    'bagging_freq': 5,  # frequency of bagging\n",
        "    'verbose': -1  # logging mode - quiet\n",
        "}\n",
        "\n",
        "num_round = 100"
      ],
      "metadata": {
        "id": "lL7YazjJn30D"
      },
      "execution_count": null,
      "outputs": []
    },
    {
      "cell_type": "markdown",
      "source": [
        "Now we train a machine learning model and predict the labels of some training data."
      ],
      "metadata": {
        "id": "Jh_MPZ9SoD5l"
      }
    },
    {
      "cell_type": "code",
      "source": [
        "X_train, X_test, y_train, y_test = train_test_split(X, y, test_size=0.2, random_state=1)\n",
        "\n",
        "# Convert the data into LightGBM's data format\n",
        "train_data = lgb.Dataset(X_train, label=y_train)\n",
        "test_data = lgb.Dataset(X_test, label=y_test)\n",
        "\n",
        "# Train the model\n",
        "bst = lgb.train(params, train_data, num_boost_round=num_round, valid_sets=[test_data], verbose_eval = -1)\n",
        "\n",
        "# Predict using the trained model\n",
        "y_pred = bst.predict(X_test)\n",
        "\n",
        "# Convert the predicted probabilities into class labels\n",
        "y_pred_classes = y_pred.argmax(axis=1)\n",
        "\n",
        "accuracy = np.mean(y_pred_classes == y_test)\n",
        "print(\"Accuracy:\", accuracy)"
      ],
      "metadata": {
        "id": "vM0iIGGni0wW"
      },
      "execution_count": null,
      "outputs": []
    },
    {
      "cell_type": "markdown",
      "source": [
        "lightGBM was able to predict the correct digit label in 94.6% of cases. When trying to build any kind new kind of sophisticated new model always start with a simple out of the box solution as a reference. As we can see the prediction works already really well just using the full 784 dimensions."
      ],
      "metadata": {
        "id": "waZkZDYfnRqR"
      }
    },
    {
      "cell_type": "code",
      "source": [
        "tsne = TSNE(n_components=3, perplexity=20)\n",
        "transformed_data = tsne.fit_transform(X)\n",
        "\n",
        "X_train, X_test, y_train, y_test = train_test_split(transformed_data, y, test_size=0.2, random_state=1)\n",
        "\n",
        "# Convert the data into LightGBM's data format\n",
        "train_data = lgb.Dataset(X_train, label=y_train)\n",
        "test_data = lgb.Dataset(X_test, label=y_test)\n",
        "\n",
        "# Train the model\n",
        "bst = lgb.train(params, train_data, num_boost_round=num_round, valid_sets=[test_data], verbose_eval=-1)\n",
        "\n",
        "# Predict using the trained model\n",
        "y_pred = bst.predict(X_test)\n",
        "\n",
        "# Convert the predicted probabilities into class labels\n",
        "y_pred_classes = y_pred.argmax(axis=1)\n",
        "\n",
        "accuracy = np.mean(y_pred_classes == y_test)\n",
        "print(\"Accuracy t-SNE:\", accuracy)"
      ],
      "metadata": {
        "id": "U0V6vMfrobBp"
      },
      "execution_count": null,
      "outputs": []
    },
    {
      "cell_type": "markdown",
      "source": [
        "Computing the 3D t-SNE was quite slow. But after transforming the data to only 3 dimensions the prediction accuracy using the same machine learnin algorithm was improved to 95.1%. "
      ],
      "metadata": {
        "id": "QKuOFW9Nri6p"
      }
    },
    {
      "cell_type": "markdown",
      "source": [
        "Next we install the UMAP package. UMAP ios very similar to t-SNE, but it is probably the better method to use nowadays. It is much faster and can handle higher dimensions. It also is better at keeping the relationships between datapoints more similar compared to t-SNE."
      ],
      "metadata": {
        "id": "UeFNDCM3rypl"
      }
    },
    {
      "cell_type": "code",
      "source": [
        "!pip install umap-learn --quiet"
      ],
      "metadata": {
        "id": "33hx9pVPkhYA"
      },
      "execution_count": null,
      "outputs": []
    },
    {
      "cell_type": "markdown",
      "source": [
        "After installing UMAP we can test the prediction performance based on UMAP transformed data. The syntax should be identical to t-SNE."
      ],
      "metadata": {
        "id": "8Qmxx1lrsJAL"
      }
    },
    {
      "cell_type": "code",
      "source": [
        "import umap\n",
        "import matplotlib.patches as mpatches\n",
        "\n",
        "# Perform UMAP\n",
        "umap_model = umap.UMAP(n_components=2)\n",
        "X_umap = umap_model.fit_transform(X)\n",
        "\n",
        "plt.scatter(X_umap[:,0], X_umap[:,1], c=y, cmap='viridis')\n",
        "\n",
        "patches = [mpatches.Patch(color=plt.cm.viridis(i/10), \n",
        "            label=str(i)) for i in range(10)]\n",
        "\n",
        "plt.legend(handles=patches, \n",
        "            bbox_to_anchor=(1.05, 1), \n",
        "            loc=2, \n",
        "            borderaxespad=0.0)\n",
        "\n",
        "plt.xlabel(\"T1\", fontsize=16)\n",
        "plt.ylabel(\"T2\", fontsize=16)"
      ],
      "metadata": {
        "id": "GwOVJx0783J_"
      },
      "execution_count": null,
      "outputs": []
    },
    {
      "cell_type": "code",
      "source": [
        "import umap\n",
        "\n",
        "# Perform UMAP\n",
        "umap_model = umap.UMAP(n_components=20)\n",
        "X_umap = umap_model.fit_transform(X)\n",
        "\n",
        "X_train, X_test, y_train, y_test = train_test_split(X_umap, y, test_size=0.2, random_state=1)\n",
        "\n",
        "train_data = lgb.Dataset(X_train, label=y_train)\n",
        "test_data = lgb.Dataset(X_test, label=y_test)\n",
        "\n",
        "# Train the model\n",
        "bst = lgb.train(params, train_data, num_boost_round=num_round, valid_sets=[test_data], verbose_eval=-1)\n",
        "\n",
        "# Predict using the trained model\n",
        "y_pred = bst.predict(X_test)\n",
        "\n",
        "# Convert the predicted probabilities into class labels\n",
        "y_pred_classes = y_pred.argmax(axis=1)\n",
        "\n",
        "accuracy = np.mean(y_pred_classes == y_test)\n",
        "print(\"Accuracy UMAP:\", accuracy)"
      ],
      "metadata": {
        "id": "VEpaoiURoIKj"
      },
      "execution_count": null,
      "outputs": []
    },
    {
      "cell_type": "markdown",
      "source": [
        "This transformation seems to improve the prediction accuracy slightly. The higher dimensions might help. It should be noted that we do not have proof that the resulting accuracy is statistically significant.\n",
        "\n",
        "When inspecting the mislabeled digits most can be identified by a human. Here is also a list of best performers: https://paperswithcode.com/sota/image-classification-on-mnist\n",
        "\n",
        "The human error rate is 2%-2.5%:\n",
        "https://papers.nips.cc/paper/656-efficient-pattern-recognition-using-a-new-transformation-distance.pdf\n"
      ],
      "metadata": {
        "id": "NoxzfHu1y6es"
      }
    },
    {
      "cell_type": "code",
      "source": [
        "l = 15  # change integer to show different mislabeled samples\n",
        "\n",
        "false_predictions = np.where(y_pred_classes != y_test)[0]\n",
        "i = np.where(X_umap[:,0] == X_test[false_predictions[l],0])[0]\n",
        "print(\"Thought it was:\",y_pred_classes[false_predictions[l]], \", but it was:\", y_test[false_predictions[l]])\n",
        "\n",
        "plt.imshow(1-X[i, :].reshape(28, 28), cmap='gray')\n",
        "t = plt.xticks([])\n",
        "t = plt.yticks([])"
      ],
      "metadata": {
        "id": "McyEK2g7EHDi"
      },
      "execution_count": null,
      "outputs": []
    },
    {
      "cell_type": "markdown",
      "source": [
        "There is a risk that we remove important information when using methods such as UMAP. It should be noted that most modern machine learning algorithms can handle with many dimensions very well. Instead of reducing the number of dimensions we add the UMAP dimensions to the original data and see whether this can improve out prediction even more."
      ],
      "metadata": {
        "id": "jv5QwJaQ8QfY"
      }
    },
    {
      "cell_type": "code",
      "source": [
        "umap_model = umap.UMAP(n_components=2)\n",
        "X_umap = umap_model.fit_transform(X)\n",
        "\n",
        "X_augmented = np.concatenate((X, X_umap), axis=1)\n",
        "\n",
        "X_train, X_test, y_train, y_test = train_test_split(X_augmented, y, test_size=0.2, random_state=1)\n",
        "\n",
        "train_data = lgb.Dataset(X_train, label=y_train)\n",
        "test_data = lgb.Dataset(X_test, label=y_test)\n",
        "\n",
        "# Train the model\n",
        "bst = lgb.train(params, train_data, num_boost_round=num_round, valid_sets=[test_data], verbose_eval=-1)\n",
        "\n",
        "# Predict using the trained model\n",
        "y_pred = bst.predict(X_test)\n",
        "\n",
        "# Convert the predicted probabilities into class labels\n",
        "y_pred_classes = y_pred.argmax(axis=1)\n",
        "\n",
        "accuracy = np.mean(y_pred_classes == y_test)\n",
        "print(\"Accuracy + UMAP:\", accuracy)"
      ],
      "metadata": {
        "id": "j-BE5lthk3C6"
      },
      "execution_count": null,
      "outputs": []
    },
    {
      "cell_type": "markdown",
      "source": [
        "### Differences between PCA, t-SNE, and UMAP\n",
        "\n",
        "All three algorithms perform slightly different due to the underlying principles they are based on. In the following section we analyze a synthetic dataset to illustrate the differences."
      ],
      "metadata": {
        "id": "b7lrxz62-uDa"
      }
    },
    {
      "cell_type": "code",
      "source": [
        "import numpy as np\n",
        "import pandas as pd\n",
        "from matplotlib import pyplot as plt\n",
        "import urllib.request\n",
        "\n",
        "import warnings\n",
        "warnings.filterwarnings('ignore')\n",
        "\n",
        "from sklearn.decomposition import PCA"
      ],
      "metadata": {
        "id": "j_0WiMZe_9h2"
      },
      "execution_count": null,
      "outputs": []
    },
    {
      "cell_type": "code",
      "source": [
        "urllib.request.urlretrieve(\"https://mssm-share.s3.amazonaws.com/hands_on_data.tsv\", \"hands_on_data.tsv\")\n",
        "syn_data = pd.read_csv(\"hands_on_data.tsv\", index_col=0, sep=\"\\t\")"
      ],
      "metadata": {
        "id": "wmgUDhtO_dub"
      },
      "execution_count": null,
      "outputs": []
    },
    {
      "cell_type": "markdown",
      "source": [
        "## PCA\n",
        "\n",
        "The first two PCs describe a circle and it is hard to make out a relationship with the color gradient and the structure of the data."
      ],
      "metadata": {
        "id": "uuoLFVOOF8ty"
      }
    },
    {
      "cell_type": "code",
      "source": [
        "colors = syn_data.iloc[:,3]\n",
        "\n",
        "pca = PCA(n_components=2)\n",
        "pca_data = pca.fit_transform(syn_data.iloc[:,0:3])\n",
        "\n",
        "fig = plt.figure()\n",
        "ax = fig.add_subplot(111)\n",
        "\n",
        "ax.scatter(pca_data[:,0], pca_data[:,1], c=colors, cmap='hsv', marker='o')\n",
        "ax.set_xlabel('PC 1')\n",
        "ax.set_ylabel('PC 2')\n",
        "ax.set_title('PCA')"
      ],
      "metadata": {
        "id": "seqCcWmeC2XK"
      },
      "execution_count": null,
      "outputs": []
    },
    {
      "cell_type": "markdown",
      "source": [
        "## t-SNE\n",
        "\n"
      ],
      "metadata": {
        "id": "GG3z9K78GHrv"
      }
    },
    {
      "cell_type": "code",
      "source": [
        "from sklearn.manifold import TSNE\n",
        "\n",
        "tsne = TSNE(n_components=2, perplexity=20)\n",
        "tsne_data = tsne.fit_transform(syn_data.iloc[:,0:3])\n",
        "\n",
        "fig = plt.figure()\n",
        "ax = fig.add_subplot(111)\n",
        "\n",
        "ax.scatter(tsne_data[:,0], tsne_data[:,1], c=syn_data.iloc[:,3], cmap='hsv', marker='o')\n",
        "ax.set_xlabel('T1')\n",
        "ax.set_ylabel('T2')\n",
        "ax.set_title('TSNE')"
      ],
      "metadata": {
        "id": "EbL48KCKGKCM"
      },
      "execution_count": null,
      "outputs": []
    },
    {
      "cell_type": "markdown",
      "source": [
        "## UMAP"
      ],
      "metadata": {
        "id": "Inq_yVmuICF8"
      }
    },
    {
      "cell_type": "code",
      "source": [
        "import umap\n",
        "\n",
        "umap_model = umap.UMAP()\n",
        "umap_data = umap_model.fit_transform(syn_data.iloc[:,0:3])\n",
        "\n",
        "fig = plt.figure()\n",
        "ax = fig.add_subplot(111)\n",
        "\n",
        "ax.scatter(umap_data[:,0], umap_data[:,1], c=syn_data.iloc[:,3], cmap='hsv', marker='o')\n",
        "ax.set_xlabel('U1')\n",
        "ax.set_ylabel('U2')\n",
        "ax.set_title('UMAP')"
      ],
      "metadata": {
        "id": "lUWHhHriIFWo"
      },
      "execution_count": null,
      "outputs": []
    },
    {
      "cell_type": "code",
      "source": [
        "!pip install bokeh --quiet\n",
        "!pip install datashader --quiet"
      ],
      "metadata": {
        "id": "4aMJYfwCIgsM"
      },
      "execution_count": null,
      "outputs": []
    },
    {
      "cell_type": "code",
      "source": [
        "import umap.plot\n",
        "\n",
        "umap.plot.connectivity(umap_model)"
      ],
      "metadata": {
        "id": "oZD5BwCMJDPw"
      },
      "execution_count": null,
      "outputs": []
    },
    {
      "cell_type": "code",
      "source": [
        "fig = plt.figure(figsize=(8,8))\n",
        "ax = fig.add_subplot(111, projection='3d')\n",
        "\n",
        "ax.scatter(syn_data['x'], syn_data['y'], syn_data['z'], c=syn_data['c'], cmap='hsv', marker='o')\n",
        "ax.set_xlabel('X')\n",
        "ax.set_ylabel('Y')\n",
        "ax.set_zlabel('Z')"
      ],
      "metadata": {
        "id": "diGSOXbr_u6j"
      },
      "execution_count": null,
      "outputs": []
    }
  ]
}